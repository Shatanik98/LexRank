{
  "nbformat": 4,
  "nbformat_minor": 0,
  "metadata": {
    "colab": {
      "name": "LexRank.ipynb",
      "provenance": []
    },
    "kernelspec": {
      "name": "python3",
      "display_name": "Python 3"
    }
  },
  "cells": [
    {
      "cell_type": "code",
      "metadata": {
        "id": "OV74ucVO1YEj",
        "colab_type": "code",
        "colab": {}
      },
      "source": [
        "!pip install lexrank"
      ],
      "execution_count": 0,
      "outputs": []
    },
    {
      "cell_type": "code",
      "metadata": {
        "id": "5WgQxvXK3EuS",
        "colab_type": "code",
        "colab": {}
      },
      "source": [
        "from lexrank import STOPWORDS, LexRank"
      ],
      "execution_count": 0,
      "outputs": []
    },
    {
      "cell_type": "code",
      "metadata": {
        "id": "xpqHl9Aa3Jqa",
        "colab_type": "code",
        "colab": {}
      },
      "source": [
        "titles = []\n",
        "\n",
        "with open(\"Titles_New.txt\", \"rt\", encoding = \"utf-8\") as f:\n",
        "    lines = f.readlines()\n",
        "    for x in lines:\n",
        "        line = x.strip(\"\\n\")\n",
        "        titles.append(line)"
      ],
      "execution_count": 0,
      "outputs": []
    },
    {
      "cell_type": "code",
      "metadata": {
        "id": "3ex_jO9o3shq",
        "colab_type": "code",
        "colab": {}
      },
      "source": [
        "posts = []\n",
        "\n",
        "with open(\"Posts_New.txt\", \"rt\", encoding = \"utf-8\") as f:\n",
        "    lines = f.readlines()\n",
        "    for x in lines:\n",
        "        line = x.strip(\"\\n\")\n",
        "        posts.append(line)"
      ],
      "execution_count": 0,
      "outputs": []
    },
    {
      "cell_type": "code",
      "metadata": {
        "id": "3Ec6iBUS4ACW",
        "colab_type": "code",
        "colab": {}
      },
      "source": [
        "lxr = LexRank(titles, stopwords = STOPWORDS)"
      ],
      "execution_count": 0,
      "outputs": []
    },
    {
      "cell_type": "code",
      "metadata": {
        "id": "BSG8xLrW4b52",
        "colab_type": "code",
        "colab": {}
      },
      "source": [
        "summary = lxr.get_summary(posts, summary_size = 100, threshold = None)"
      ],
      "execution_count": 0,
      "outputs": []
    },
    {
      "cell_type": "code",
      "metadata": {
        "id": "CDrTJccn5IQ1",
        "colab_type": "code",
        "colab": {}
      },
      "source": [
        "with open(\"LexRank_Summary.txt\", \"wt\", encoding = \"utf-8\") as f:\n",
        "    for x in summary:\n",
        "        print(x, file = f)"
      ],
      "execution_count": 0,
      "outputs": []
    }
  ]
}